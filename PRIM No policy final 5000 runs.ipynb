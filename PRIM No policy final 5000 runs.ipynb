{
 "cells": [
  {
   "cell_type": "code",
   "execution_count": 1,
   "metadata": {},
   "outputs": [
    {
     "name": "stderr",
     "output_type": "stream",
     "text": [
      "C:\\Users\\martijn.legene\\AppData\\Local\\Continuum\\anaconda3\\lib\\site-packages\\ema_workbench\\em_framework\\optimization.py:22: ImportWarning: platypus based optimization not available\n",
      "  warnings.warn(\"platypus based optimization not available\", ImportWarning)\n",
      "C:\\Users\\martijn.legene\\AppData\\Local\\Continuum\\anaconda3\\lib\\site-packages\\ema_workbench\\connectors\\__init__.py:18: ImportWarning: netlogo connector not available\n",
      "  warnings.warn(\"netlogo connector not available\", ImportWarning)\n",
      "C:\\Users\\martijn.legene\\AppData\\Local\\Continuum\\anaconda3\\lib\\site-packages\\ema_workbench\\connectors\\__init__.py:23: ImportWarning: pysd connector not available\n",
      "  warnings.warn(\"pysd connector not available\", ImportWarning)\n"
     ]
    },
    {
     "data": {
      "text/plain": [
       "<Logger EMA (DEBUG)>"
      ]
     },
     "execution_count": 1,
     "metadata": {},
     "output_type": "execute_result"
    }
   ],
   "source": [
    "#loading ema workbench and packages\n",
    "\n",
    "import numpy as np\n",
    "import matplotlib.pyplot as plt\n",
    "import seaborn as sns\n",
    "import pandas as pd\n",
    "import csv\n",
    "\n",
    "from __future__ import (division, unicode_literals, print_function, absolute_import)\n",
    "\n",
    "from ema_workbench import (Model, RealParameter, TimeSeriesOutcome, ScalarOutcome, \n",
    "                           perform_experiments, ema_logging, Constant, load_results, \n",
    "#                            MultiprocessingEvaluator, IpyparallelEvaluator\n",
    "                          )\n",
    "from ema_workbench.em_framework.parameters import Policy, create_parameters\n",
    "from ema_workbench.connectors.vensim import VensimModel, LookupUncertainty, VensimModelStructureInterface\n",
    "from ema_workbench.em_framework.evaluators import (LHS, SOBOL, MORRIS, MC)\n",
    "from ema_workbench.util import save_results, ema_logging, CaseError\n",
    "from ema_workbench.analysis.plotting import lines, envelopes\n",
    "from ema_workbench.analysis.plotting_util import KDE, BOXPLOT\n",
    "from ema_workbench.analysis.pairs_plotting import pairs_lines, pairs_scatter\n",
    "from ema_workbench.em_framework.parameters import Policy\n",
    "from ema_workbench.em_framework import CategoricalParameter\n",
    "\n",
    "ema_logging.log_to_stderr(ema_logging.INFO)\n",
    "\n"
   ]
  },
  {
   "cell_type": "code",
   "execution_count": 2,
   "metadata": {
    "collapsed": true
   },
   "outputs": [],
   "source": [
    "#load vensim model\n",
    "mdl_file = 'Accessibility model views v209.vpm'\n",
    "model = VensimModel(\"defaultModel\",model_file=mdl_file)\n",
    "\n",
    "# define common uncertainties:\n",
    "model.uncertainties = [\n",
    "#AV variables  \n",
    "    #Land use    \n",
    "    #Traffic    \n",
    "                        CategoricalParameter('Switch Penetration rate AV', (0, 1, 2, 3, 4)), #4 for no AVs at all, so base scenario\n",
    "                        RealParameter('Value of time in private AV', 5.39, 10.84),\n",
    "                        RealParameter('Empty vehicle trips to avoid parking', 0, 0.2), #12 minutes parking searchtime = 0.2 hour\n",
    "                        RealParameter('Maximum increased efficiency by AV', 1, 1.4), # PCU of 0.7 = 1.4\n",
    "    #Parking\n",
    "                        RealParameter('Increased parking density rate', 1, 1.6),\n",
    "#                        RealParameter('Idle time car', 5.5, 84),\n",
    "#                        RealParameter('Fraction new uses for cars', -0.1, 0.5),\n",
    "                        RealParameter('New uses for cars', 0.16, 0.945),\n",
    "#Decreasing the idle time of a car from 84% or 5.5%, so use the car 1-new uses for cars. car is used 16% of the time to 94.5%\n",
    "                        RealParameter('Fraction mobility for those unable to drive', 0, 0.5),\n",
    "                        RealParameter('Carsharing rate', 0, 0.99), \n",
    "    #Population\n",
    "    #Modal split\n",
    "\n",
    "#Policy variables\n",
    "    #Land use\n",
    "    \n",
    "##                         RealParameter('Policy allocation priority[Housing]', 0, 0.589),\n",
    "##                         RealParameter('Policy allocation priority[Business]', 0, 0.896),\n",
    "##                         RealParameter('Policy allocation priority[Road]', 0, 0.1),\n",
    "##                         RealParameter('Policy allocation priority[Parking]', 0, 0.1),\n",
    "##                         RealParameter('Policy allocation priority[Other]', 0, 1),\n",
    "    \n",
    "#                        RealParameter('Build higher', 0, 0.5),\n",
    "#                        RealParameter('Create free space', 0, 0.5),\n",
    "#                        RealParameter('Dynamic urban space factor', 1, 1.5),\n",
    "    \n",
    "##                         RealParameter('Vacancy threshold', 0.05, 0.15),\n",
    "##                         RealParameter('Delay time housing demolition', 1, 10),\n",
    "    \n",
    "    #Traffic\n",
    "##                         RealParameter('Threshold value for new lane construction', 0.1, 0.4),\n",
    "##                         RealParameter('Threshold value for lane decommissioning', 1.05, 1.3),\n",
    "##                         RealParameter('Delay time lane decommissioning', 1, 10),\n",
    "                        \n",
    "    #Parking\n",
    "##                         RealParameter('Threshold value for parking decommissioning', 0.05, 0.15),\n",
    "##                         RealParameter('Delay time parking decommissioning', 1, 3),\n",
    "##                         RealParameter('Parking price multiplier', 0, 2),\n",
    "    #Population\n",
    "    #Modal split\n",
    "##                         RealParameter('Attention for car traffic management', 0, 0.5),\n",
    "##                         RealParameter('Attention for AV traffic management', 0, 1),\n",
    "##                         RealParameter('Attention for PT', 0, 1),\n",
    "##                         RealParameter('Attention for active modes', 0, 1),\n",
    "\n",
    "#Global uncertainties\n",
    "    #Land use\n",
    "                        RealParameter('Initial vacancy rate city', 0.02, 0.06),\n",
    "                        RealParameter('Economic growth rate', 0, 0.03),\n",
    "#                         RealParameter('Building time', 1, 2),\n",
    "#                         RealParameter('Construction aging', 60, 100),\n",
    "#     #Traffic\n",
    "#                         RealParameter('Construction time new road lanes', 2.5, 7.5),\n",
    "# #                        RealParameter('Road decay', 15, 25),\n",
    "#     #Parking\n",
    "#                         RealParameter('Construction time parkings', 0.25, 0.75),  \n",
    "#                         RealParameter('Parking decay', 40, 60),\n",
    "    #Population\n",
    "                        RealParameter('Migration rate', 0, 0.0042),\n",
    "                        RealParameter('Average time in house', 5, 40)]\n",
    "    #Modal split \n",
    "#                        RealParameter('Value of time car passenger', 6, 12)\n",
    "\n",
    "                        \n",
    "                        \n",
    "#model runt goed met de outcomes voor 1 zone        \n",
    "# scenarios  #use CategoricalParameter to use switches in the model\n",
    "                        \n",
    "                            # CategoricalParameter('Switch Building Mode', (0,1)),\n",
    "                        \n",
    "                           \n",
    "model.outcomes = [\n",
    "                    TimeSeriesOutcome('TIME'),\n",
    "#Land use    \n",
    "#                     TimeSeriesOutcome('Jobs per district type[City center]'),\n",
    "#                     TimeSeriesOutcome('Jobs per district type[Other urban districts]'),\n",
    "#                     TimeSeriesOutcome('Jobs per district type[Suburbs]'),\n",
    "#                     TimeSeriesOutcome('Jobs per district type[Rural areas]'),                \n",
    "#                     TimeSeriesOutcome('Jobs density per district type[City center]'),\n",
    "#                     TimeSeriesOutcome('Jobs density per district type[Other urban districts]'),\n",
    "#                     TimeSeriesOutcome('Jobs density per district type[Suburbs]'),\n",
    "#                     TimeSeriesOutcome('Jobs density per district type[Rural areas]'),\n",
    "                    TimeSeriesOutcome('Fraction housing per district type[City center]'),    \n",
    "                    TimeSeriesOutcome('Fraction housing per district type[Other urban districts]'),\n",
    "                    TimeSeriesOutcome('Fraction housing per district type[Suburbs]'),\n",
    "#                    TimeSeriesOutcome('Fraction housing per district type[Rural areas]'),\n",
    "                    TimeSeriesOutcome('Fraction business per district type[City center]'),    \n",
    "                    TimeSeriesOutcome('Fraction business per district type[Other urban districts]'),\n",
    "                    TimeSeriesOutcome('Fraction business per district type[Suburbs]'),\n",
    "#                    TimeSeriesOutcome('Fraction business per district type[Rural areas]'),\n",
    "                    TimeSeriesOutcome('Fraction road per district type[City center]'),    \n",
    "                    TimeSeriesOutcome('Fraction road per district type[Other urban districts]'),\n",
    "                    TimeSeriesOutcome('Fraction road per district type[Suburbs]'),\n",
    "#                    TimeSeriesOutcome('Fraction road per district type[Rural areas]'),\n",
    "                    TimeSeriesOutcome('Fraction parking per district type[City center]'),    \n",
    "                    TimeSeriesOutcome('Fraction parking per district type[Other urban districts]'),\n",
    "#parking places in suburbs and rural areas are not taken into account\n",
    "#                     TimeSeriesOutcome('Fraction parking per district type[Suburbs]'),\n",
    "#                     TimeSeriesOutcome('Fraction parking per district type[Rural areas]'),\n",
    "                    TimeSeriesOutcome('Fraction other land per district type[City center]'),    \n",
    "                    TimeSeriesOutcome('Fraction other land per district type[Other urban districts]'),\n",
    "                    TimeSeriesOutcome('Fraction other land per district type[Suburbs]'),\n",
    "#                    TimeSeriesOutcome('Fraction other land per district type[Rural areas]'),\n",
    "    \n",
    "#Traffic    \n",
    "                    TimeSeriesOutcome('Distance within acceptable travel time per district type[City center]'),\n",
    "                    TimeSeriesOutcome('Distance within acceptable travel time per district type[Other urban districts]'),\n",
    "                    TimeSeriesOutcome('Distance within acceptable travel time per district type[Suburbs]'),\n",
    "#                    TimeSeriesOutcome('Distance within acceptable travel time per district type[Rural areas]'),\n",
    "                    TimeSeriesOutcome('Total traffic volume in morning peak per district type[City center]'),\n",
    "                    TimeSeriesOutcome('Total traffic volume in morning peak per district type[Other urban districts]'),\n",
    "                    TimeSeriesOutcome('Total traffic volume in morning peak per district type[Suburbs]'),\n",
    "#                    TimeSeriesOutcome('Total traffic volume in morning peak per district type[Rural areas]'),\n",
    "                    TimeSeriesOutcome('Actual road capacity use compared to initial optimal per district type[City center]'),\n",
    "                    TimeSeriesOutcome('Actual road capacity use compared to initial optimal per district type[Other urban districts]'),\n",
    "                    TimeSeriesOutcome('Actual road capacity use compared to initial optimal per district type[Suburbs]'),\n",
    "#                    TimeSeriesOutcome('Actual road capacity use compared to initial optimal per district type[Rural areas]'),\n",
    "#Parking    \n",
    "#                  TimeSeriesOutcome('Parking demand per district type[City center]'),\n",
    "#                   TimeSeriesOutcome('Parking demand per district type[Other urban districts]'),\n",
    "#parking places in suburbs and rural areas are not taken into account\n",
    "#                     TimeSeriesOutcome('Parking demand per district type[Suburbs]'),\n",
    "#                     TimeSeriesOutcome('Parking demand per district type[Rural areas]'),\n",
    "                    TimeSeriesOutcome('Parking places per district type[City center]'),\n",
    "                    TimeSeriesOutcome('Parking places per district type[Other urban districts]'),\n",
    "                    \n",
    "#parking places in suburbs and rural areas are not taken into account\n",
    "#                     TimeSeriesOutcome('Parking places per district type[Suburbs]'),                \n",
    "#                     TimeSeriesOutcome('Parking places per district type[Rural areas]'),\n",
    "#Population    \n",
    "#                     TimeSeriesOutcome('Attractiveness to live in district type[City center]'),\n",
    "#                     TimeSeriesOutcome('Attractiveness to live in district type[Other urban districts]'),\n",
    "#                     TimeSeriesOutcome('Attractiveness to live in district type[Suburbs]'),\n",
    "#                     TimeSeriesOutcome('Attractiveness to live in district type[Rural areas]'),\n",
    "                    TimeSeriesOutcome('Accessibility to jobs per district type[City center]'),\n",
    "                    TimeSeriesOutcome('Accessibility to jobs per district type[Other urban districts]'),\n",
    "                    TimeSeriesOutcome('Accessibility to jobs per district type[Suburbs]'),\n",
    "#                    TimeSeriesOutcome('Accessibility to jobs per district type[Rural areas]'),\n",
    "#                    TimeSeriesOutcome('Total population in GCA'),\n",
    "                    TimeSeriesOutcome('Population per district[Amager]'),\n",
    "                    TimeSeriesOutcome('Population per district[Christianshavn]'),\n",
    "                    TimeSeriesOutcome('Population per district[Eastern Zealand]'),\n",
    "                    TimeSeriesOutcome('Population per district[Frederiksberg]'),\n",
    "                    TimeSeriesOutcome('Population per district[Indre By]'),\n",
    "                    TimeSeriesOutcome('Population per district[Norrebro]'),\n",
    "                    TimeSeriesOutcome('Population per district[Northern Suburbs]'),\n",
    "                    TimeSeriesOutcome('Population per district[Northern Zealand]'),\n",
    "                    TimeSeriesOutcome('Population per district[Osterbro]'),\n",
    "                    TimeSeriesOutcome('Population per district[Vestegnen]'),\n",
    "                    TimeSeriesOutcome('Population per district[Vesterbro]'),\n",
    "                    TimeSeriesOutcome('Population density per district type[City center]'),\n",
    "                    TimeSeriesOutcome('Population density per district type[Other urban districts]'),\n",
    "                    TimeSeriesOutcome('Population density per district type[Suburbs]'),\n",
    "                    TimeSeriesOutcome('Population density per district type[Rural areas]'),\n",
    "#Modal split    \n",
    "                    TimeSeriesOutcome('GCA Modal split car and AV')\n",
    "                ]\n",
    "    \n",
    "#print results\n",
    " \n",
    "#perform experiments\n",
    "#nr_experiments = 1000\n",
    "#perform more experiments when the script is finished\n",
    "    \n",
    "#results = perform_experiments(model, nr_experiments)"
   ]
  },
  {
   "cell_type": "code",
   "execution_count": 5,
   "metadata": {},
   "outputs": [
    {
     "name": "stderr",
     "output_type": "stream",
     "text": [
      "[MainProcess/INFO] performing 5000 scenarios * 1 policies * 1 model(s) = 5000 experiments\n",
      "[MainProcess/INFO] performing experiments sequentially\n",
      "[MainProcess/INFO] 100 cases completed\n",
      "[MainProcess/INFO] 200 cases completed\n",
      "[MainProcess/INFO] 300 cases completed\n",
      "[MainProcess/INFO] 400 cases completed\n",
      "[MainProcess/INFO] 500 cases completed\n",
      "[MainProcess/INFO] 600 cases completed\n",
      "[MainProcess/INFO] 700 cases completed\n",
      "[MainProcess/INFO] 800 cases completed\n",
      "[MainProcess/INFO] 900 cases completed\n",
      "[MainProcess/INFO] 1000 cases completed\n",
      "[MainProcess/INFO] 1100 cases completed\n",
      "[MainProcess/INFO] 1200 cases completed\n",
      "[MainProcess/INFO] 1300 cases completed\n",
      "[MainProcess/INFO] 1400 cases completed\n",
      "[MainProcess/INFO] 1500 cases completed\n",
      "[MainProcess/INFO] 1600 cases completed\n",
      "[MainProcess/INFO] 1700 cases completed\n",
      "[MainProcess/INFO] 1800 cases completed\n",
      "[MainProcess/INFO] 1900 cases completed\n",
      "[MainProcess/INFO] 2000 cases completed\n",
      "[MainProcess/INFO] 2100 cases completed\n",
      "[MainProcess/INFO] 2200 cases completed\n",
      "[MainProcess/INFO] 2300 cases completed\n",
      "[MainProcess/INFO] 2400 cases completed\n",
      "[MainProcess/INFO] 2500 cases completed\n",
      "[MainProcess/INFO] 2600 cases completed\n",
      "[MainProcess/INFO] 2700 cases completed\n",
      "[MainProcess/INFO] 2800 cases completed\n",
      "[MainProcess/INFO] 2900 cases completed\n",
      "[MainProcess/INFO] 3000 cases completed\n",
      "[MainProcess/INFO] 3100 cases completed\n",
      "[MainProcess/INFO] 3200 cases completed\n",
      "[MainProcess/INFO] 3300 cases completed\n",
      "[MainProcess/INFO] 3400 cases completed\n",
      "[MainProcess/INFO] 3500 cases completed\n",
      "[MainProcess/INFO] 3600 cases completed\n",
      "[MainProcess/INFO] 3700 cases completed\n",
      "[MainProcess/INFO] 3800 cases completed\n",
      "[MainProcess/INFO] 3900 cases completed\n",
      "[MainProcess/INFO] 4000 cases completed\n",
      "[MainProcess/INFO] 4100 cases completed\n",
      "[MainProcess/INFO] 4200 cases completed\n",
      "[MainProcess/INFO] 4300 cases completed\n",
      "[MainProcess/INFO] 4400 cases completed\n",
      "[MainProcess/INFO] 4500 cases completed\n",
      "[MainProcess/INFO] 4600 cases completed\n",
      "[MainProcess/INFO] 4700 cases completed\n",
      "[MainProcess/INFO] 4800 cases completed\n",
      "[MainProcess/INFO] 4900 cases completed\n",
      "[MainProcess/INFO] 5000 cases completed\n",
      "[MainProcess/INFO] experiments finished\n",
      "[MainProcess/INFO] results saved successfully to C:\\Users\\martijn.legene\\EMA TESTS\\PRIM results\\no_policy_experiments_PRIM_5000.tar.gz\n"
     ]
    }
   ],
   "source": [
    "#perform experiments\n",
    "nr_experiments = 5000\n",
    "\n",
    "    \n",
    "results5000 = perform_experiments(model, nr_experiments, reporting_interval=100)\n",
    "\n",
    "#save results\n",
    "fn = r'PRIM results/no_policy_experiments_PRIM_{}.tar.gz'.format(nr_experiments)\n",
    "save_results(results5000, fn)"
   ]
  },
  {
   "cell_type": "code",
   "execution_count": null,
   "metadata": {
    "collapsed": true
   },
   "outputs": [],
   "source": []
  },
  {
   "cell_type": "code",
   "execution_count": null,
   "metadata": {
    "collapsed": true
   },
   "outputs": [],
   "source": []
  },
  {
   "cell_type": "code",
   "execution_count": null,
   "metadata": {
    "collapsed": true
   },
   "outputs": [],
   "source": []
  },
  {
   "cell_type": "code",
   "execution_count": null,
   "metadata": {
    "collapsed": true
   },
   "outputs": [],
   "source": []
  },
  {
   "cell_type": "code",
   "execution_count": null,
   "metadata": {
    "collapsed": true
   },
   "outputs": [],
   "source": []
  },
  {
   "cell_type": "code",
   "execution_count": null,
   "metadata": {
    "collapsed": true
   },
   "outputs": [],
   "source": []
  },
  {
   "cell_type": "code",
   "execution_count": null,
   "metadata": {
    "collapsed": true
   },
   "outputs": [],
   "source": []
  },
  {
   "cell_type": "code",
   "execution_count": null,
   "metadata": {
    "collapsed": true
   },
   "outputs": [],
   "source": []
  },
  {
   "cell_type": "code",
   "execution_count": null,
   "metadata": {
    "collapsed": true
   },
   "outputs": [],
   "source": []
  },
  {
   "cell_type": "code",
   "execution_count": null,
   "metadata": {
    "collapsed": true
   },
   "outputs": [],
   "source": []
  },
  {
   "cell_type": "code",
   "execution_count": null,
   "metadata": {
    "collapsed": true
   },
   "outputs": [],
   "source": []
  },
  {
   "cell_type": "code",
   "execution_count": null,
   "metadata": {
    "collapsed": true
   },
   "outputs": [],
   "source": []
  },
  {
   "cell_type": "code",
   "execution_count": null,
   "metadata": {
    "collapsed": true
   },
   "outputs": [],
   "source": []
  },
  {
   "cell_type": "code",
   "execution_count": null,
   "metadata": {
    "collapsed": true
   },
   "outputs": [],
   "source": []
  },
  {
   "cell_type": "code",
   "execution_count": null,
   "metadata": {
    "collapsed": true
   },
   "outputs": [],
   "source": []
  },
  {
   "cell_type": "code",
   "execution_count": null,
   "metadata": {
    "collapsed": true
   },
   "outputs": [],
   "source": []
  },
  {
   "cell_type": "code",
   "execution_count": null,
   "metadata": {
    "collapsed": true
   },
   "outputs": [],
   "source": []
  },
  {
   "cell_type": "code",
   "execution_count": null,
   "metadata": {
    "collapsed": true
   },
   "outputs": [],
   "source": []
  },
  {
   "cell_type": "code",
   "execution_count": null,
   "metadata": {
    "collapsed": true
   },
   "outputs": [],
   "source": []
  },
  {
   "cell_type": "code",
   "execution_count": null,
   "metadata": {
    "collapsed": true
   },
   "outputs": [],
   "source": []
  },
  {
   "cell_type": "code",
   "execution_count": null,
   "metadata": {
    "collapsed": true
   },
   "outputs": [],
   "source": []
  },
  {
   "cell_type": "code",
   "execution_count": null,
   "metadata": {
    "collapsed": true
   },
   "outputs": [],
   "source": []
  },
  {
   "cell_type": "code",
   "execution_count": null,
   "metadata": {
    "collapsed": true
   },
   "outputs": [],
   "source": []
  },
  {
   "cell_type": "code",
   "execution_count": null,
   "metadata": {
    "collapsed": true
   },
   "outputs": [],
   "source": [
    "results5000 = load_results(r'PRIM results/experiments_PRIM_5000.tar.gz')"
   ]
  },
  {
   "cell_type": "code",
   "execution_count": null,
   "metadata": {
    "collapsed": true
   },
   "outputs": [],
   "source": [
    "import numpy as np\n",
    "import matplotlib.pyplot as plt\n",
    "from __future__ import (division, print_function)\n",
    "\n",
    "from ema_workbench.analysis import prim\n",
    "from ema_workbench import ema_logging, load_results\n",
    "\n",
    "ema_logging.log_to_stderr(level=ema_logging.INFO)\n",
    "\n",
    "def classify(outcomes):\n",
    "    #get the output for variables you want\n",
    "    resultmodalsplit = outcomes['GCA Modal split car and AV']\n",
    "#    resultpopdenscitycenter = outcomes['Population density per district type[City center]']\n",
    "#    resultparkingcitycenter = outcomes['Fraction parking per district type[City center]']\n",
    "    \n",
    "    #make an empty array of length equal to number of cases \n",
    "    classesmodalsplit =  np.zeros(resultmodalsplit.shape[0])\n",
    "#    classespopdenscitycenter =  np.zeros(resultpopdenscitycenter.shape[0])\n",
    "#    classesparkingcitycenter =  np.zeros(resultparkingcitycenter.shape[0])\n",
    "    \n",
    "    #if GCA Modal split car and AV is higher than 0.4, classify as 1 \n",
    "    classesmodalsplit[resultmodalsplit[:, -1] > 0.4] = 1\n",
    "    #if Population density per district type[City center] is lower than initial value of 5653 p/km2, classify as 1 \n",
    "#    classespopdenscitycenter[resultpopdenscitycenter[:, -1] < 5653] = 1\n",
    "    #if Fraction parking per district type[City center] is higher than initial value of 0.1077, classify as 1 \n",
    "#    classesparkingcitycenter[resultparkingcitycenter[:, -1] > 0.1077] = 1\n",
    "    \n",
    "    return classesmodalsplit\n",
    "#    return classespopdenscitycenter\n",
    "#    return classesparkingcitycenter\n",
    "\n",
    "#load data\n",
    "#results = load_results(r'PRIM results/experiments_PRIM_10.tar.gz'+r'PRIM results/experiments_PRIM_20.tar.gz'+r'PRIM results/experiments_PRIM_30.tar.gz')\n",
    "#experiments, results = results\n",
    "results = results5000"
   ]
  },
  {
   "cell_type": "code",
   "execution_count": null,
   "metadata": {
    "collapsed": true
   },
   "outputs": [],
   "source": []
  },
  {
   "cell_type": "code",
   "execution_count": null,
   "metadata": {
    "collapsed": true
   },
   "outputs": [],
   "source": [
    "import ema_workbench.analysis.pairs_plotting as pairs\n",
    "#perform prim on modified results tuple\n",
    "prim_obj = prim.setup_prim(results, classify, threshold=0.8, threshold_type=1)\n",
    "\n",
    "box_1 = prim_obj.find_box()\n",
    "box_1.show_ppt()\n",
    "box_1.show_tradeoff()\n",
    "box_1.inspect( style='graph', boxlim_formatter=\"{: .2f}\", \n",
    "               ticklabel_formatter=\"{} {: .2f}\")\n",
    "box_1.inspect()\n",
    "box_1.select(8)\n",
    "box_1.write_ppt_to_stdout()\n",
    "#box_1.show_pairs_scatter() #TypeError: float() argument must be a string or a number, not 'set'\n",
    "\n",
    "#print prim to std_out\n",
    "print(prim_obj.stats_to_dataframe())\n",
    "print(prim_obj.boxes_to_dataframe())\n",
    "\n",
    "#visualize\n",
    "prim_obj.display_boxes()\n",
    "plt.show()"
   ]
  },
  {
   "cell_type": "code",
   "execution_count": null,
   "metadata": {
    "collapsed": true
   },
   "outputs": [],
   "source": [
    "prim_obj = prim.setup_prim(results, classify, mass_min=0.05, threshold=0.8)\n",
    "\n",
    "# let's find a first box\n",
    "box1 = prim_obj.find_box()\n",
    "\n",
    "# let's analyze the peeling trajectory\n",
    "box1.show_ppt()\n",
    "box1.show_tradeoff()\n",
    "\n",
    "box1.write_ppt_to_stdout()\n",
    "\n",
    "# based on the peeling trajectory, we pick entry number 3\n",
    "box1.select(22)\n",
    "\n",
    "# show the resulting box\n",
    "prim_obj.display_boxes()\n",
    "#prim_obj.write_boxes_to_stdout() #AttributeError: 'Prim' object has no attribute 'write_boxes_to_stdout'\n",
    "\n",
    "plt.show()"
   ]
  },
  {
   "cell_type": "code",
   "execution_count": null,
   "metadata": {
    "collapsed": true
   },
   "outputs": [],
   "source": [
    "#extract results for 1 policy\n",
    "# logicalIndex = experiments['policy'] == 'no policy'\n",
    "# newExperiments = experiments[ logicalIndex ]\n",
    "# newResults = {}\n",
    "# for key, value in results.items():\n",
    "#     newResults[key] = value[logicalIndex]\n",
    "\n",
    "# results = (newExperiments, newResults)\n",
    "\n",
    "#perform prim on modified results tuple\n",
    "boxes = prim.setup_prim(results, classify, \n",
    "                                    threshold=0.8, \n",
    "                                    threshold_type=1)\n",
    "\n",
    "#print prim to std_out\n",
    "box1.write_ppt_to_stdout()# AttributeError: module 'ema_workbench.analysis.prim' has no attribute 'write_prim_to_stdout\n",
    "\n",
    "#visualize\n",
    "box1.show_boxes_individually(boxes, results)\n",
    "prim.show_boxes_together(boxes, results)\n",
    "plt.show()"
   ]
  },
  {
   "cell_type": "code",
   "execution_count": null,
   "metadata": {
    "collapsed": true
   },
   "outputs": [],
   "source": []
  },
  {
   "cell_type": "code",
   "execution_count": null,
   "metadata": {
    "collapsed": true
   },
   "outputs": [],
   "source": []
  },
  {
   "cell_type": "code",
   "execution_count": null,
   "metadata": {
    "collapsed": true
   },
   "outputs": [],
   "source": []
  },
  {
   "cell_type": "code",
   "execution_count": null,
   "metadata": {
    "collapsed": true
   },
   "outputs": [],
   "source": []
  },
  {
   "cell_type": "code",
   "execution_count": null,
   "metadata": {
    "collapsed": true
   },
   "outputs": [],
   "source": []
  },
  {
   "cell_type": "code",
   "execution_count": null,
   "metadata": {
    "collapsed": true
   },
   "outputs": [],
   "source": []
  }
 ],
 "metadata": {
  "kernelspec": {
   "display_name": "Python 3",
   "language": "python",
   "name": "python3"
  },
  "language_info": {
   "codemirror_mode": {
    "name": "ipython",
    "version": 3
   },
   "file_extension": ".py",
   "mimetype": "text/x-python",
   "name": "python",
   "nbconvert_exporter": "python",
   "pygments_lexer": "ipython3",
   "version": "3.6.2"
  }
 },
 "nbformat": 4,
 "nbformat_minor": 2
}
